{
 "cells": [
  {
   "cell_type": "markdown",
   "metadata": {},
   "source": [
    "# Code for converting processed data into liquidity information"
   ]
  },
  {
   "cell_type": "code",
   "execution_count": null,
   "metadata": {},
   "outputs": [],
   "source": [
    "library(xts)\n",
    "library(highfrequency)\n",
    "library(tidyverse)\n",
    "\n",
    "Sys.setenv(TZ='GMT')"
   ]
  },
  {
   "cell_type": "code",
   "execution_count": null,
   "metadata": {},
   "outputs": [],
   "source": [
    "read_tqdata <- function(base_path='new_data/processed', \n",
    "                        file_extension,\n",
    "                        symbol_to_use){\n",
    "  qfile = paste0(base_path, '/', file_extension, '_q.csv')\n",
    "  tfile = paste0(base_path, '/', file_extension, '_t.csv')\n",
    "  print(qfile)\n",
    "  print(tfile)\n",
    "  qdataframe = read.csv(qfile)\n",
    "  qdataframe['SYMBOL'] = symbol_to_use\n",
    "  tdataframe = read.csv(paste0(base_path, '/', file_extension, '_t.csv'))\n",
    "  tdataframe['SYMBOL'] = symbol_to_use\n",
    "  \n",
    "  qdata <- xts(qdataframe[,-1], order.by=as.POSIXct(qdataframe[,1]))\n",
    "  tdata <- xts(tdataframe[,-1], order.by=as.POSIXct(tdataframe[,1]))\n",
    "  \n",
    "  # join quotes and trade data\n",
    "  tqdata <- matchTradesQuotes(tdata, qdata)\n",
    "  \n",
    "  # give liquidities\n",
    "  liq = getLiquidityMeasures(tqdata)\n",
    "\n",
    "  # save\n",
    "  tqfile = paste0(\"new_data/processed/liquidities/\", file_extension, '_tq.csv')\n",
    "  liqfile = paste0(\"new_data/processed/liquidities/\", file_extension, '_liq.csv')\n",
    "  print(tqfile)\n",
    "  print(liqfile)\n",
    "  write.csv(as.data.frame(tqdata), tqfile)\n",
    "  write.csv(as.data.frame(liq), liqfile)\n",
    "\n",
    "}"
   ]
  },
  {
   "cell_type": "code",
   "execution_count": null,
   "metadata": {},
   "outputs": [],
   "source": [
    "# Read processed data and calculate liquidity measures for all stocks\n",
    "read_tqdata(file_extension='AAPL_1', symbol_to_use='AAPL')\n",
    "read_tqdata(file_extension='AAPL_2', symbol_to_use='AAPL')\n",
    "read_tqdata(file_extension='AAPL_3', symbol_to_use='AAPL')\n",
    "\n",
    "read_tqdata(file_extension='Amazon_1', symbol_to_use='AMZN')\n",
    "read_tqdata(file_extension='Amazon_2', symbol_to_use='AMZN')\n",
    "read_tqdata(file_extension='Amazon_3', symbol_to_use='AMZN')\n",
    "\n",
    "read_tqdata(file_extension='Facebook_1', symbol_to_use='FB')\n",
    "read_tqdata(file_extension='Facebook_2', symbol_to_use='FB')\n",
    "read_tqdata(file_extension='Facebook_3', symbol_to_use='FB')\n",
    "\n",
    "read_tqdata(file_extension='TSLA_1', symbol_to_use='TSLA')\n",
    "read_tqdata(file_extension='TSLA_2', symbol_to_use='TSLA')\n",
    "read_tqdata(file_extension='TSLA_3', symbol_to_use='TSLA')\n",
    "\n",
    "read_tqdata(file_extension='UAL_1', symbol_to_use='UAL')\n",
    "read_tqdata(file_extension='UAL_2', symbol_to_use='UAL')\n",
    "read_tqdata(file_extension='UAL_3', symbol_to_use='UAL')"
   ]
  }
 ],
 "metadata": {
  "kernelspec": {
   "display_name": "R",
   "language": "R",
   "name": "ir"
  },
  "language_info": {
   "codemirror_mode": "r",
   "file_extension": ".r",
   "mimetype": "text/x-r-source",
   "name": "R",
   "pygments_lexer": "r",
   "version": "3.6.1"
  },
  "toc": {
   "base_numbering": 1,
   "nav_menu": {},
   "number_sections": true,
   "sideBar": true,
   "skip_h1_title": false,
   "title_cell": "Table of Contents",
   "title_sidebar": "Contents",
   "toc_cell": false,
   "toc_position": {},
   "toc_section_display": true,
   "toc_window_display": false
  }
 },
 "nbformat": 4,
 "nbformat_minor": 4
}
