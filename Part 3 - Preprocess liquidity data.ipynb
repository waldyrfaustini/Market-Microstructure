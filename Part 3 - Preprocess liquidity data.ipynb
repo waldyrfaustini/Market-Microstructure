{
 "cells": [
  {
   "cell_type": "markdown",
   "metadata": {},
   "source": [
    "Goal of this file:\n",
    "* Take output from R code and make sure it has quality for analysis"
   ]
  },
  {
   "cell_type": "code",
   "execution_count": 328,
   "metadata": {},
   "outputs": [],
   "source": [
    "import pandas as pd\n",
    "import glob\n",
    "import os"
   ]
  },
  {
   "cell_type": "code",
   "execution_count": 104,
   "metadata": {},
   "outputs": [],
   "source": [
    "folder = 'new_data/processed/liquidities'\n",
    "liquidity_files = glob.glob(os.path.join(folder, '*_liq.csv'))"
   ]
  },
  {
   "cell_type": "markdown",
   "metadata": {},
   "source": [
    "# Read data"
   ]
  },
  {
   "cell_type": "code",
   "execution_count": 317,
   "metadata": {},
   "outputs": [],
   "source": [
    "raw = pd.concat([pd.read_csv(file, index_col=0) for file in liquidity_files])\n",
    "raw = raw.rename({'effectiveSpread': 'effective_spread', 'realizedSpread': 'realized_spread',\n",
    "                 'SYMBOL': 'stock_name'}, axis=1)\n",
    "raw.index = pd.to_datetime(raw.index)\n",
    "raw['date'] = raw.index.date\n",
    "raw['hour'] = raw.index.time"
   ]
  },
  {
   "cell_type": "markdown",
   "metadata": {},
   "source": [
    "# Preprocess\n",
    "Check for NAs etc"
   ]
  },
  {
   "cell_type": "markdown",
   "metadata": {},
   "source": [
    "We are analyzing three different dates:\n",
    "\n",
    "* Jun 19: option expiry date\n",
    "* Nov 3: election day\n",
    "* Nov 11: Veterans day"
   ]
  },
  {
   "cell_type": "code",
   "execution_count": 318,
   "metadata": {},
   "outputs": [
    {
     "data": {
      "text/plain": [
       "realized_spread               4500\n",
       "proportionalRealizedSpread    4500\n",
       "priceImpact                   4500\n",
       "proportionalPriceImpact       4500\n",
       "squaredLogReturn                15\n",
       "absLogReturn                    15\n",
       "quotedSlope                    604\n",
       "logQSlope                      604\n",
       "midQuoteSquaredReturn           15\n",
       "midQuoteAbsReturn               15\n",
       "dtype: int64"
      ]
     },
     "execution_count": 318,
     "metadata": {},
     "output_type": "execute_result"
    }
   ],
   "source": [
    "aux = raw.isna().sum()\n",
    "aux[aux >0]"
   ]
  },
  {
   "cell_type": "markdown",
   "metadata": {},
   "source": [
    "Inspect more closely the NAs in realized_spread"
   ]
  },
  {
   "cell_type": "code",
   "execution_count": 321,
   "metadata": {},
   "outputs": [
    {
     "data": {
      "text/plain": [
       "AMZN    900\n",
       "FB      900\n",
       "UAL     900\n",
       "TSLA    900\n",
       "AAPL    900\n",
       "Name: stock_name, dtype: int64"
      ]
     },
     "execution_count": 321,
     "metadata": {},
     "output_type": "execute_result"
    }
   ],
   "source": [
    "raw[raw['realized_spread'].isna()]['stock_name'].value_counts()"
   ]
  },
  {
   "cell_type": "markdown",
   "metadata": {},
   "source": [
    "At what time do these happen? This is too regular, probably related to market close"
   ]
  },
  {
   "cell_type": "code",
   "execution_count": 324,
   "metadata": {},
   "outputs": [],
   "source": [
    "aux = pd.Series(pd.to_datetime(raw[raw['realized_spread'].isna()].index)).drop_duplicates()"
   ]
  },
  {
   "cell_type": "code",
   "execution_count": 325,
   "metadata": {},
   "outputs": [
    {
     "name": "stdout",
     "output_type": "stream",
     "text": [
      "2020-11-03\n",
      "2020-11-03 15:46:55\n",
      "2020-11-03 16:00:00\n",
      "2020-11-11\n",
      "2020-11-11 15:48:08\n",
      "2020-11-11 16:00:00\n",
      "2020-06-19\n",
      "2020-06-19 15:53:03\n",
      "2020-06-19 16:00:00\n"
     ]
    }
   ],
   "source": [
    "for date in aux.dt.date.unique():\n",
    "    print(date)\n",
    "    print(aux[aux.dt.date == date].min())\n",
    "    print(aux[aux.dt.date == date].max())"
   ]
  },
  {
   "cell_type": "markdown",
   "metadata": {},
   "source": [
    "It seems the empty `realizedSpread` values happen close to market close, for the last 900 ticks. Let's remove them."
   ]
  },
  {
   "cell_type": "code",
   "execution_count": 326,
   "metadata": {},
   "outputs": [],
   "source": [
    "raw = raw.dropna()"
   ]
  },
  {
   "cell_type": "markdown",
   "metadata": {},
   "source": [
    "Save to Excel"
   ]
  },
  {
   "cell_type": "code",
   "execution_count": 327,
   "metadata": {},
   "outputs": [],
   "source": [
    "raw[['stock_name', 'BID', 'BIDSIZ', 'OFR', 'OFRSIZ', 'PRICE','SIZE', 'date', 'hour',\n",
    "    'midpoints', 'direction', 'effective_spread', 'realized_spread']].\\\n",
    "    to_excel(os.path.join(folder, 'joined_liquidity_date.xlsx'))"
   ]
  }
 ],
 "metadata": {
  "kernelspec": {
   "display_name": "Python 3",
   "language": "python",
   "name": "python3"
  },
  "language_info": {
   "codemirror_mode": {
    "name": "ipython",
    "version": 3
   },
   "file_extension": ".py",
   "mimetype": "text/x-python",
   "name": "python",
   "nbconvert_exporter": "python",
   "pygments_lexer": "ipython3",
   "version": "3.7.9"
  },
  "toc": {
   "base_numbering": 1,
   "nav_menu": {},
   "number_sections": true,
   "sideBar": true,
   "skip_h1_title": false,
   "title_cell": "Table of Contents",
   "title_sidebar": "Contents",
   "toc_cell": false,
   "toc_position": {},
   "toc_section_display": true,
   "toc_window_display": false
  }
 },
 "nbformat": 4,
 "nbformat_minor": 4
}
